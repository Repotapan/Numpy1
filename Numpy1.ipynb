{
 "cells": [
  {
   "cell_type": "code",
   "execution_count": 1,
   "id": "8c403284-3dd0-4736-ab0a-7df61374e4c8",
   "metadata": {},
   "outputs": [],
   "source": [
    "import numpy as np\n"
   ]
  },
  {
   "cell_type": "code",
   "execution_count": 2,
   "id": "f3265d52-4060-4bfe-b350-e17b78f2d71c",
   "metadata": {},
   "outputs": [],
   "source": [
    "l=[1,2,3,4]\n"
   ]
  },
  {
   "cell_type": "code",
   "execution_count": 3,
   "id": "aa9d33f0-1041-4b7f-ac9b-544c395a3691",
   "metadata": {},
   "outputs": [],
   "source": [
    "ar=np.array(l)"
   ]
  },
  {
   "cell_type": "code",
   "execution_count": 4,
   "id": "afe1b090-0747-47b8-9c53-d1e75e0b9eba",
   "metadata": {},
   "outputs": [
    {
     "data": {
      "text/plain": [
       "array([1, 2, 3, 4])"
      ]
     },
     "execution_count": 4,
     "metadata": {},
     "output_type": "execute_result"
    }
   ],
   "source": [
    "ar"
   ]
  },
  {
   "cell_type": "code",
   "execution_count": 5,
   "id": "003d222c-f492-4d78-ad36-9c7acf8ea184",
   "metadata": {},
   "outputs": [
    {
     "data": {
      "text/plain": [
       "numpy.ndarray"
      ]
     },
     "execution_count": 5,
     "metadata": {},
     "output_type": "execute_result"
    }
   ],
   "source": [
    "type(ar)"
   ]
  },
  {
   "cell_type": "code",
   "execution_count": 6,
   "id": "c403a0fb-b3d7-4cfe-a3bf-1df598e9b172",
   "metadata": {},
   "outputs": [],
   "source": [
    "ar1=np.array([[1,2],[3,4]])"
   ]
  },
  {
   "cell_type": "code",
   "execution_count": 7,
   "id": "0f4959e5-eafb-4074-a614-4068b69a28b9",
   "metadata": {},
   "outputs": [
    {
     "data": {
      "text/plain": [
       "numpy.ndarray"
      ]
     },
     "execution_count": 7,
     "metadata": {},
     "output_type": "execute_result"
    }
   ],
   "source": [
    "type(ar1)"
   ]
  },
  {
   "cell_type": "code",
   "execution_count": 8,
   "id": "ce20180b-3450-418d-8225-974445b41680",
   "metadata": {},
   "outputs": [
    {
     "data": {
      "text/plain": [
       "array([1, 2, 3, 4])"
      ]
     },
     "execution_count": 8,
     "metadata": {},
     "output_type": "execute_result"
    }
   ],
   "source": [
    "np.asarray(l)"
   ]
  },
  {
   "cell_type": "code",
   "execution_count": 9,
   "id": "abb795e6-42e6-458d-8d05-ba2226f499a1",
   "metadata": {},
   "outputs": [],
   "source": [
    "m=np.matrix(l)"
   ]
  },
  {
   "cell_type": "code",
   "execution_count": 10,
   "id": "b57cbab9-8cf1-4ff9-ab4e-c648c5fc098c",
   "metadata": {},
   "outputs": [
    {
     "data": {
      "text/plain": [
       "matrix([[1, 2, 3, 4]])"
      ]
     },
     "execution_count": 10,
     "metadata": {},
     "output_type": "execute_result"
    }
   ],
   "source": [
    "m"
   ]
  },
  {
   "cell_type": "code",
   "execution_count": 11,
   "id": "7a12e3aa-753b-4770-a885-e6c16673f152",
   "metadata": {},
   "outputs": [
    {
     "data": {
      "text/plain": [
       "matrix([[1, 2, 3, 4]])"
      ]
     },
     "execution_count": 11,
     "metadata": {},
     "output_type": "execute_result"
    }
   ],
   "source": [
    "np.asanyarray(m)"
   ]
  },
  {
   "cell_type": "code",
   "execution_count": 12,
   "id": "896dd4e5-c2a2-4407-89e2-15e674e9fd14",
   "metadata": {},
   "outputs": [],
   "source": [
    "a=np.array(l)"
   ]
  },
  {
   "cell_type": "code",
   "execution_count": 23,
   "id": "98478974-d7dc-47e1-8127-b290ff6f152c",
   "metadata": {},
   "outputs": [
    {
     "data": {
      "text/plain": [
       "array([1, 2, 3, 4])"
      ]
     },
     "execution_count": 23,
     "metadata": {},
     "output_type": "execute_result"
    }
   ],
   "source": [
    "a"
   ]
  },
  {
   "cell_type": "code",
   "execution_count": 13,
   "id": "1b911afd-7160-407a-94a3-6918e90f0843",
   "metadata": {},
   "outputs": [],
   "source": [
    "c=a"
   ]
  },
  {
   "cell_type": "code",
   "execution_count": 14,
   "id": "6285c5ca-fa7f-4be9-9009-3f4e6d2e6260",
   "metadata": {},
   "outputs": [
    {
     "data": {
      "text/plain": [
       "array([1, 2, 3, 4])"
      ]
     },
     "execution_count": 14,
     "metadata": {},
     "output_type": "execute_result"
    }
   ],
   "source": [
    "c"
   ]
  },
  {
   "cell_type": "code",
   "execution_count": 15,
   "id": "7b507187-493e-4bb9-a67e-f3717e9056e8",
   "metadata": {},
   "outputs": [
    {
     "data": {
      "text/plain": [
       "array([1, 2, 3, 4])"
      ]
     },
     "execution_count": 15,
     "metadata": {},
     "output_type": "execute_result"
    }
   ],
   "source": [
    "a"
   ]
  },
  {
   "cell_type": "code",
   "execution_count": 16,
   "id": "ce7d3b8a-a665-4a1d-b349-b2f4c793944d",
   "metadata": {},
   "outputs": [],
   "source": [
    "a[0]=100"
   ]
  },
  {
   "cell_type": "code",
   "execution_count": 17,
   "id": "f0ead2c5-2ade-48d3-810d-7048a84ca76a",
   "metadata": {},
   "outputs": [
    {
     "data": {
      "text/plain": [
       "array([100,   2,   3,   4])"
      ]
     },
     "execution_count": 17,
     "metadata": {},
     "output_type": "execute_result"
    }
   ],
   "source": [
    "a"
   ]
  },
  {
   "cell_type": "code",
   "execution_count": 18,
   "id": "952f8105-bd24-44bc-867e-cdfdcd1e2bc2",
   "metadata": {},
   "outputs": [
    {
     "data": {
      "text/plain": [
       "array([100,   2,   3,   4])"
      ]
     },
     "execution_count": 18,
     "metadata": {},
     "output_type": "execute_result"
    }
   ],
   "source": [
    "c#it is called as swalo copy"
   ]
  },
  {
   "cell_type": "code",
   "execution_count": 19,
   "id": "d7e17765-f1af-4284-afdc-b172ad78c76c",
   "metadata": {},
   "outputs": [],
   "source": [
    "d=np.copy(a)"
   ]
  },
  {
   "cell_type": "code",
   "execution_count": 20,
   "id": "887a536d-015b-42ce-b8f4-df2d604e5d5d",
   "metadata": {},
   "outputs": [
    {
     "data": {
      "text/plain": [
       "array([100,   2,   3,   4])"
      ]
     },
     "execution_count": 20,
     "metadata": {},
     "output_type": "execute_result"
    }
   ],
   "source": [
    "d"
   ]
  },
  {
   "cell_type": "code",
   "execution_count": 21,
   "id": "a84cc665-bab2-4e60-b331-dc6b62ddc86b",
   "metadata": {},
   "outputs": [
    {
     "data": {
      "text/plain": [
       "array([100,   2,   3,   4])"
      ]
     },
     "execution_count": 21,
     "metadata": {},
     "output_type": "execute_result"
    }
   ],
   "source": [
    "a"
   ]
  },
  {
   "cell_type": "code",
   "execution_count": 33,
   "id": "2be0cf7b-b148-448e-8e73-63599efdced6",
   "metadata": {},
   "outputs": [],
   "source": [
    "a[1]=400"
   ]
  },
  {
   "cell_type": "code",
   "execution_count": 22,
   "id": "00efe5fb-43e6-4546-8766-86a3dbec43ae",
   "metadata": {},
   "outputs": [
    {
     "data": {
      "text/plain": [
       "array([100,   2,   3,   4])"
      ]
     },
     "execution_count": 22,
     "metadata": {},
     "output_type": "execute_result"
    }
   ],
   "source": [
    "a"
   ]
  },
  {
   "cell_type": "code",
   "execution_count": 23,
   "id": "dbcc5f7f-af1f-4b41-9885-ddf5f0058814",
   "metadata": {},
   "outputs": [
    {
     "data": {
      "text/plain": [
       "array([100,   2,   3,   4])"
      ]
     },
     "execution_count": 23,
     "metadata": {},
     "output_type": "execute_result"
    }
   ],
   "source": [
    "d#it is called as deep copy"
   ]
  },
  {
   "cell_type": "code",
   "execution_count": 24,
   "id": "d7df449c-d2f8-4b07-bfd7-29c980d3883f",
   "metadata": {},
   "outputs": [
    {
     "data": {
      "text/plain": [
       "array([[ True, False, False],\n",
       "       [False,  True, False],\n",
       "       [False, False,  True]])"
      ]
     },
     "execution_count": 24,
     "metadata": {},
     "output_type": "execute_result"
    }
   ],
   "source": [
    "np.fromfunction(lambda i,j : i == j,(3,3))"
   ]
  },
  {
   "cell_type": "code",
   "execution_count": 25,
   "id": "209af64d-5d23-4082-a733-4e97d7948529",
   "metadata": {},
   "outputs": [
    {
     "data": {
      "text/plain": [
       "array([[0., 0., 0., 0.],\n",
       "       [0., 1., 2., 3.],\n",
       "       [0., 2., 4., 6.],\n",
       "       [0., 3., 6., 9.]])"
      ]
     },
     "execution_count": 25,
     "metadata": {},
     "output_type": "execute_result"
    }
   ],
   "source": [
    "np.fromfunction(lambda i,j: i*j,(4,4))"
   ]
  },
  {
   "cell_type": "code",
   "execution_count": 26,
   "id": "a60cf4e8-f247-47fc-8528-d0ef8998c871",
   "metadata": {},
   "outputs": [],
   "source": [
    "iterableobject=(i*i for i in range(5))"
   ]
  },
  {
   "cell_type": "code",
   "execution_count": 27,
   "id": "9a0929a4-9d9e-4f1e-bbbe-06b43c48d154",
   "metadata": {},
   "outputs": [
    {
     "data": {
      "text/plain": [
       "array([ 0,  1,  4,  9, 16])"
      ]
     },
     "execution_count": 27,
     "metadata": {},
     "output_type": "execute_result"
    }
   ],
   "source": [
    "np.fromiter(iterableobject,int)"
   ]
  },
  {
   "cell_type": "code",
   "execution_count": 28,
   "id": "5670d9c7-072f-4fc8-a316-85661dbcd442",
   "metadata": {},
   "outputs": [
    {
     "data": {
      "text/plain": [
       "array([234., 235.])"
      ]
     },
     "execution_count": 28,
     "metadata": {},
     "output_type": "execute_result"
    }
   ],
   "source": [
    "np.fromstring('234 235',sep=' ')"
   ]
  },
  {
   "cell_type": "code",
   "execution_count": 29,
   "id": "970424a4-3e3b-42d9-bcd3-f850fc533a33",
   "metadata": {},
   "outputs": [
    {
     "data": {
      "text/plain": [
       "array([4., 5.])"
      ]
     },
     "execution_count": 29,
     "metadata": {},
     "output_type": "execute_result"
    }
   ],
   "source": [
    "np.fromstring('4,5',sep=' ,')"
   ]
  },
  {
   "cell_type": "code",
   "execution_count": 30,
   "id": "23292ce7-ad6f-496e-9c79-2dafe7b87e1b",
   "metadata": {},
   "outputs": [],
   "source": [
    "# Numpy Datatypes\n",
    "l=[2,3,4,5,6]"
   ]
  },
  {
   "cell_type": "code",
   "execution_count": 31,
   "id": "283b2adb-60e4-478f-b1a4-0f4b38af381f",
   "metadata": {},
   "outputs": [],
   "source": [
    "ar=np.array(l)"
   ]
  },
  {
   "cell_type": "code",
   "execution_count": 32,
   "id": "ae3fe9e5-a3e8-419b-a0c3-1415b3a70424",
   "metadata": {},
   "outputs": [
    {
     "data": {
      "text/plain": [
       "array([2, 3, 4, 5, 6])"
      ]
     },
     "execution_count": 32,
     "metadata": {},
     "output_type": "execute_result"
    }
   ],
   "source": [
    "ar"
   ]
  },
  {
   "cell_type": "code",
   "execution_count": 33,
   "id": "42c304df-9615-4ab0-8f04-f33f2565c587",
   "metadata": {},
   "outputs": [
    {
     "data": {
      "text/plain": [
       "1"
      ]
     },
     "execution_count": 33,
     "metadata": {},
     "output_type": "execute_result"
    }
   ],
   "source": [
    "ar.ndim # to know the dimension we use ndim"
   ]
  },
  {
   "cell_type": "code",
   "execution_count": 34,
   "id": "c0fd5116-90eb-408d-8f0a-1b5a82690ecd",
   "metadata": {},
   "outputs": [],
   "source": [
    "ar2=np.array([[1,2,3,4],[5,6,7,8]])"
   ]
  },
  {
   "cell_type": "code",
   "execution_count": 35,
   "id": "0c6a1b1c-4052-485a-ac0f-1c98ae390a9a",
   "metadata": {},
   "outputs": [
    {
     "data": {
      "text/plain": [
       "array([[1, 2, 3, 4],\n",
       "       [5, 6, 7, 8]])"
      ]
     },
     "execution_count": 35,
     "metadata": {},
     "output_type": "execute_result"
    }
   ],
   "source": [
    "ar2"
   ]
  },
  {
   "cell_type": "code",
   "execution_count": 36,
   "id": "9f183aad-3438-47cf-a216-a8063b05118f",
   "metadata": {},
   "outputs": [
    {
     "data": {
      "text/plain": [
       "2"
      ]
     },
     "execution_count": 36,
     "metadata": {},
     "output_type": "execute_result"
    }
   ],
   "source": [
    "ar2.ndim"
   ]
  },
  {
   "cell_type": "code",
   "execution_count": 54,
   "id": "536cd102-d6b4-4f22-9c88-239cca3367c4",
   "metadata": {},
   "outputs": [
    {
     "data": {
      "text/plain": [
       "5"
      ]
     },
     "execution_count": 54,
     "metadata": {},
     "output_type": "execute_result"
    }
   ],
   "source": [
    "ar.size # to know the number of elements "
   ]
  },
  {
   "cell_type": "code",
   "execution_count": 37,
   "id": "54f15b6a-1824-4099-9243-8c01f5adc37d",
   "metadata": {},
   "outputs": [
    {
     "data": {
      "text/plain": [
       "8"
      ]
     },
     "execution_count": 37,
     "metadata": {},
     "output_type": "execute_result"
    }
   ],
   "source": [
    "ar2.size"
   ]
  },
  {
   "cell_type": "code",
   "execution_count": 38,
   "id": "d131a5b6-7d74-4b61-a9d9-3cffdc7be214",
   "metadata": {},
   "outputs": [
    {
     "data": {
      "text/plain": [
       "(5,)"
      ]
     },
     "execution_count": 38,
     "metadata": {},
     "output_type": "execute_result"
    }
   ],
   "source": [
    "ar.shape"
   ]
  },
  {
   "cell_type": "code",
   "execution_count": 39,
   "id": "8fea7753-759f-4c8d-a42c-4e3f5be6cb09",
   "metadata": {},
   "outputs": [
    {
     "data": {
      "text/plain": [
       "(2, 4)"
      ]
     },
     "execution_count": 39,
     "metadata": {},
     "output_type": "execute_result"
    }
   ],
   "source": [
    "ar2.shape # to know the shape "
   ]
  },
  {
   "cell_type": "code",
   "execution_count": 40,
   "id": "4183fc04-677e-4d1c-99b4-65450ed94dd4",
   "metadata": {},
   "outputs": [],
   "source": [
    "# 2 rows and 4 columns"
   ]
  },
  {
   "cell_type": "code",
   "execution_count": 41,
   "id": "ed5dc955-6fc0-493b-b6c8-919643b2c79d",
   "metadata": {},
   "outputs": [
    {
     "data": {
      "text/plain": [
       "dtype('int64')"
      ]
     },
     "execution_count": 41,
     "metadata": {},
     "output_type": "execute_result"
    }
   ],
   "source": [
    "ar.dtype"
   ]
  },
  {
   "cell_type": "code",
   "execution_count": 42,
   "id": "e155206f-cf8d-4068-a24c-4963f216edd5",
   "metadata": {},
   "outputs": [
    {
     "data": {
      "text/plain": [
       "dtype('int64')"
      ]
     },
     "execution_count": 42,
     "metadata": {},
     "output_type": "execute_result"
    }
   ],
   "source": [
    "ar2.dtype"
   ]
  },
  {
   "cell_type": "code",
   "execution_count": 43,
   "id": "1a528708-d0d6-4907-ade9-5b31707b7c5a",
   "metadata": {},
   "outputs": [],
   "source": [
    "ar22=np.array([(1.4,23,45),(54,76,88)])"
   ]
  },
  {
   "cell_type": "code",
   "execution_count": 63,
   "id": "9c0e60e4-734d-47bb-a5a9-28ca6d2ee1e8",
   "metadata": {},
   "outputs": [
    {
     "data": {
      "text/plain": [
       "array([[ 1.4, 23. , 45. ],\n",
       "       [54. , 76. , 88. ]])"
      ]
     },
     "execution_count": 63,
     "metadata": {},
     "output_type": "execute_result"
    }
   ],
   "source": [
    "ar22"
   ]
  },
  {
   "cell_type": "code",
   "execution_count": 44,
   "id": "46e767fe-76d6-42fc-bc69-02746c196841",
   "metadata": {},
   "outputs": [
    {
     "data": {
      "text/plain": [
       "numpy.ndarray"
      ]
     },
     "execution_count": 44,
     "metadata": {},
     "output_type": "execute_result"
    }
   ],
   "source": [
    "type(ar22)"
   ]
  },
  {
   "cell_type": "code",
   "execution_count": 45,
   "id": "ec1e0174-74e9-43ea-88a6-7c9413aa330d",
   "metadata": {},
   "outputs": [
    {
     "data": {
      "text/plain": [
       "dtype('float64')"
      ]
     },
     "execution_count": 45,
     "metadata": {},
     "output_type": "execute_result"
    }
   ],
   "source": [
    "ar22.dtype"
   ]
  },
  {
   "cell_type": "code",
   "execution_count": 46,
   "id": "f868abe7-cb38-4886-ba50-68ae268bb2a2",
   "metadata": {},
   "outputs": [
    {
     "data": {
      "text/plain": [
       "range(0, 5)"
      ]
     },
     "execution_count": 46,
     "metadata": {},
     "output_type": "execute_result"
    }
   ],
   "source": [
    "range(5)"
   ]
  },
  {
   "cell_type": "code",
   "execution_count": 47,
   "id": "be896b95-9595-41b9-afc2-218d8b8c44f3",
   "metadata": {},
   "outputs": [
    {
     "data": {
      "text/plain": [
       "[0, 1, 2, 3, 4]"
      ]
     },
     "execution_count": 47,
     "metadata": {},
     "output_type": "execute_result"
    }
   ],
   "source": [
    "list(range(0,5))"
   ]
  },
  {
   "cell_type": "code",
   "execution_count": 68,
   "id": "9d5edcbc-4466-446a-9bda-0a5a06e66670",
   "metadata": {},
   "outputs": [],
   "source": [
    "# The range function does not take floating number \n",
    "# But in Numpy there is a function called arange which takes floating number "
   ]
  },
  {
   "cell_type": "code",
   "execution_count": 48,
   "id": "079446ab-65be-4f88-899b-14133fba685f",
   "metadata": {},
   "outputs": [
    {
     "data": {
      "text/plain": [
       "array([2.5, 3.5, 4.5, 5.5, 6.5])"
      ]
     },
     "execution_count": 48,
     "metadata": {},
     "output_type": "execute_result"
    }
   ],
   "source": [
    "np.arange(2.5,6.9)"
   ]
  },
  {
   "cell_type": "code",
   "execution_count": 49,
   "id": "fbf2931e-1136-4f27-a2b2-b2bd91353ac8",
   "metadata": {},
   "outputs": [
    {
     "data": {
      "text/plain": [
       "array([2.5, 2.8, 3.1, 3.4, 3.7, 4. , 4.3, 4.6, 4.9, 5.2, 5.5, 5.8, 6.1,\n",
       "       6.4, 6.7])"
      ]
     },
     "execution_count": 49,
     "metadata": {},
     "output_type": "execute_result"
    }
   ],
   "source": [
    "np.arange(2.5,6.9,0.3)"
   ]
  },
  {
   "cell_type": "code",
   "execution_count": 50,
   "id": "c20f5902-8f8c-4a35-9ea9-b7cf48dcd60e",
   "metadata": {},
   "outputs": [
    {
     "data": {
      "text/plain": [
       "[2.5,\n",
       " 2.8,\n",
       " 3.0999999999999996,\n",
       " 3.3999999999999995,\n",
       " 3.6999999999999993,\n",
       " 3.999999999999999,\n",
       " 4.299999999999999,\n",
       " 4.599999999999999,\n",
       " 4.899999999999999,\n",
       " 5.199999999999998,\n",
       " 5.499999999999998,\n",
       " 5.799999999999998,\n",
       " 6.099999999999998,\n",
       " 6.399999999999998,\n",
       " 6.6999999999999975]"
      ]
     },
     "execution_count": 50,
     "metadata": {},
     "output_type": "execute_result"
    }
   ],
   "source": [
    "list(np.arange(2.5,6.9,0.3))"
   ]
  },
  {
   "cell_type": "code",
   "execution_count": 51,
   "id": "80c94ee9-5189-4a0d-9586-0a9de3241036",
   "metadata": {},
   "outputs": [
    {
     "data": {
      "text/plain": [
       "array([1.        , 1.44444444, 1.88888889, 2.33333333, 2.77777778,\n",
       "       3.22222222, 3.66666667, 4.11111111, 4.55555556, 5.        ])"
      ]
     },
     "execution_count": 51,
     "metadata": {},
     "output_type": "execute_result"
    }
   ],
   "source": [
    "np.linspace(1,5,10)# linspace is used to find any random numbers in a particular interval."
   ]
  },
  {
   "cell_type": "code",
   "execution_count": 52,
   "id": "b3faa01b-63bf-4625-9f05-60fc7adf7fbb",
   "metadata": {},
   "outputs": [
    {
     "data": {
      "text/plain": [
       "array([0., 0., 0., 0., 0.])"
      ]
     },
     "execution_count": 52,
     "metadata": {},
     "output_type": "execute_result"
    }
   ],
   "source": [
    "np.zeros(5)"
   ]
  },
  {
   "cell_type": "code",
   "execution_count": 53,
   "id": "faea3e81-ef3a-41a8-979a-cdc9d6209c18",
   "metadata": {},
   "outputs": [
    {
     "data": {
      "text/plain": [
       "array([[0., 0., 0., 0.],\n",
       "       [0., 0., 0., 0.],\n",
       "       [0., 0., 0., 0.]])"
      ]
     },
     "execution_count": 53,
     "metadata": {},
     "output_type": "execute_result"
    }
   ],
   "source": [
    "np.zeros((3,4))"
   ]
  },
  {
   "cell_type": "code",
   "execution_count": 54,
   "id": "ceded1eb-f434-444f-bf01-b398c5146199",
   "metadata": {},
   "outputs": [
    {
     "data": {
      "text/plain": [
       "array([[[0., 0.],\n",
       "        [0., 0.],\n",
       "        [0., 0.],\n",
       "        [0., 0.]],\n",
       "\n",
       "       [[0., 0.],\n",
       "        [0., 0.],\n",
       "        [0., 0.],\n",
       "        [0., 0.]],\n",
       "\n",
       "       [[0., 0.],\n",
       "        [0., 0.],\n",
       "        [0., 0.],\n",
       "        [0., 0.]]])"
      ]
     },
     "execution_count": 54,
     "metadata": {},
     "output_type": "execute_result"
    }
   ],
   "source": [
    "np.zeros((3,4,2))"
   ]
  },
  {
   "cell_type": "code",
   "execution_count": 55,
   "id": "9d6c3e9c-11c4-4645-8ca2-4f36c90b6586",
   "metadata": {},
   "outputs": [
    {
     "data": {
      "text/plain": [
       "array([1.])"
      ]
     },
     "execution_count": 55,
     "metadata": {},
     "output_type": "execute_result"
    }
   ],
   "source": [
    "np.ones(1)"
   ]
  },
  {
   "cell_type": "code",
   "execution_count": 56,
   "id": "9a19ed4d-90a6-496e-a4aa-c7d79d551a63",
   "metadata": {},
   "outputs": [
    {
     "data": {
      "text/plain": [
       "array([1., 1., 1., 1.])"
      ]
     },
     "execution_count": 56,
     "metadata": {},
     "output_type": "execute_result"
    }
   ],
   "source": [
    "np.ones(4)"
   ]
  },
  {
   "cell_type": "code",
   "execution_count": 57,
   "id": "4e46d088-7440-4ffa-bbe1-b78a9bd29097",
   "metadata": {},
   "outputs": [
    {
     "data": {
      "text/plain": [
       "array([[1., 1., 1.],\n",
       "       [1., 1., 1.]])"
      ]
     },
     "execution_count": 57,
     "metadata": {},
     "output_type": "execute_result"
    }
   ],
   "source": [
    "np.ones((2,3))"
   ]
  },
  {
   "cell_type": "code",
   "execution_count": 58,
   "id": "75df9d3e-6bfa-41d0-a753-8d2d121720e2",
   "metadata": {},
   "outputs": [],
   "source": [
    "on=np.ones((2,3,4))"
   ]
  },
  {
   "cell_type": "code",
   "execution_count": 59,
   "id": "3249bfa9-0c35-4f70-991e-c8ae564cc934",
   "metadata": {},
   "outputs": [
    {
     "data": {
      "text/plain": [
       "array([[[1., 1., 1., 1.],\n",
       "        [1., 1., 1., 1.],\n",
       "        [1., 1., 1., 1.]],\n",
       "\n",
       "       [[1., 1., 1., 1.],\n",
       "        [1., 1., 1., 1.],\n",
       "        [1., 1., 1., 1.]]])"
      ]
     },
     "execution_count": 59,
     "metadata": {},
     "output_type": "execute_result"
    }
   ],
   "source": [
    "on"
   ]
  },
  {
   "cell_type": "code",
   "execution_count": 60,
   "id": "05149eaf-02d1-4c3e-82df-2834f4f73244",
   "metadata": {},
   "outputs": [
    {
     "data": {
      "text/plain": [
       "array([[[6., 6., 6., 6.],\n",
       "        [6., 6., 6., 6.],\n",
       "        [6., 6., 6., 6.]],\n",
       "\n",
       "       [[6., 6., 6., 6.],\n",
       "        [6., 6., 6., 6.],\n",
       "        [6., 6., 6., 6.]]])"
      ]
     },
     "execution_count": 60,
     "metadata": {},
     "output_type": "execute_result"
    }
   ],
   "source": [
    "on + 5"
   ]
  },
  {
   "cell_type": "code",
   "execution_count": 61,
   "id": "cf4fb854-ef8b-4efc-ba9f-1adb32c1efea",
   "metadata": {},
   "outputs": [
    {
     "data": {
      "text/plain": [
       "array([[0., 0., 0., 1., 1., 1.],\n",
       "       [2., 2., 2., 0., 1., 2.],\n",
       "       [0., 1., 2., 0., 1., 2.]])"
      ]
     },
     "execution_count": 61,
     "metadata": {},
     "output_type": "execute_result"
    }
   ],
   "source": [
    "np.empty((3,6)) # to create empty array"
   ]
  },
  {
   "cell_type": "code",
   "execution_count": 62,
   "id": "4cda5317-1b79-4950-9213-25595fc5f6b0",
   "metadata": {},
   "outputs": [
    {
     "data": {
      "text/plain": [
       "array([[1., 0., 0., 0.],\n",
       "       [0., 1., 0., 0.],\n",
       "       [0., 0., 1., 0.],\n",
       "       [0., 0., 0., 1.]])"
      ]
     },
     "execution_count": 62,
     "metadata": {},
     "output_type": "execute_result"
    }
   ],
   "source": [
    "np.eye(4)# for identity matrix:diagonals are 1 "
   ]
  },
  {
   "cell_type": "code",
   "execution_count": 63,
   "id": "168795f7-d797-44ee-a772-cbaf8adba059",
   "metadata": {},
   "outputs": [
    {
     "data": {
      "text/plain": [
       "array([2.        , 2.10526316, 2.21052632, 2.31578947, 2.42105263,\n",
       "       2.52631579, 2.63157895, 2.73684211, 2.84210526, 2.94736842,\n",
       "       3.05263158, 3.15789474, 3.26315789, 3.36842105, 3.47368421,\n",
       "       3.57894737, 3.68421053, 3.78947368, 3.89473684, 4.        ])"
      ]
     },
     "execution_count": 63,
     "metadata": {},
     "output_type": "execute_result"
    }
   ],
   "source": [
    "np.linspace(2,4,20)"
   ]
  },
  {
   "cell_type": "code",
   "execution_count": 64,
   "id": "da6e281f-8fe9-459a-83c1-048dcae7e206",
   "metadata": {},
   "outputs": [
    {
     "data": {
      "text/plain": [
       "array([   100.        ,    215.443469  ,    464.15888336,   1000.        ,\n",
       "         2154.43469003,   4641.58883361,  10000.        ,  21544.34690032,\n",
       "        46415.88833613, 100000.        ])"
      ]
     },
     "execution_count": 64,
     "metadata": {},
     "output_type": "execute_result"
    }
   ],
   "source": [
    "np.logspace(2,5,10)"
   ]
  },
  {
   "cell_type": "code",
   "execution_count": 93,
   "id": "d3fc55a1-56b1-43e4-894e-f5ce7b14596e",
   "metadata": {},
   "outputs": [
    {
     "data": {
      "text/plain": [
       "array([ 4.        ,  5.0396842 ,  6.34960421,  8.        , 10.0793684 ,\n",
       "       12.69920842, 16.        , 20.1587368 , 25.39841683, 32.        ])"
      ]
     },
     "execution_count": 93,
     "metadata": {},
     "output_type": "execute_result"
    }
   ],
   "source": [
    "np.logspace(2,5,10,base=2)"
   ]
  },
  {
   "cell_type": "code",
   "execution_count": 65,
   "id": "14ebb14d-6b04-494e-a7a7-34c2fff2895f",
   "metadata": {},
   "outputs": [],
   "source": [
    "arr=np.random.randn(3,4)"
   ]
  },
  {
   "cell_type": "code",
   "execution_count": 66,
   "id": "6b082d84-dab3-4a49-95e2-74baada08e37",
   "metadata": {},
   "outputs": [],
   "source": [
    "import pandas as pd \n"
   ]
  },
  {
   "cell_type": "code",
   "execution_count": 67,
   "id": "f741dec8-b78f-49a2-a49d-30b98f808792",
   "metadata": {},
   "outputs": [
    {
     "data": {
      "text/html": [
       "<div>\n",
       "<style scoped>\n",
       "    .dataframe tbody tr th:only-of-type {\n",
       "        vertical-align: middle;\n",
       "    }\n",
       "\n",
       "    .dataframe tbody tr th {\n",
       "        vertical-align: top;\n",
       "    }\n",
       "\n",
       "    .dataframe thead th {\n",
       "        text-align: right;\n",
       "    }\n",
       "</style>\n",
       "<table border=\"1\" class=\"dataframe\">\n",
       "  <thead>\n",
       "    <tr style=\"text-align: right;\">\n",
       "      <th></th>\n",
       "      <th>0</th>\n",
       "      <th>1</th>\n",
       "      <th>2</th>\n",
       "      <th>3</th>\n",
       "    </tr>\n",
       "  </thead>\n",
       "  <tbody>\n",
       "    <tr>\n",
       "      <th>0</th>\n",
       "      <td>0.620077</td>\n",
       "      <td>0.712638</td>\n",
       "      <td>0.738966</td>\n",
       "      <td>-0.455145</td>\n",
       "    </tr>\n",
       "    <tr>\n",
       "      <th>1</th>\n",
       "      <td>0.296466</td>\n",
       "      <td>-0.429610</td>\n",
       "      <td>0.861479</td>\n",
       "      <td>0.334964</td>\n",
       "    </tr>\n",
       "    <tr>\n",
       "      <th>2</th>\n",
       "      <td>-0.165766</td>\n",
       "      <td>1.620771</td>\n",
       "      <td>-0.139649</td>\n",
       "      <td>0.315307</td>\n",
       "    </tr>\n",
       "  </tbody>\n",
       "</table>\n",
       "</div>"
      ],
      "text/plain": [
       "          0         1         2         3\n",
       "0  0.620077  0.712638  0.738966 -0.455145\n",
       "1  0.296466 -0.429610  0.861479  0.334964\n",
       "2 -0.165766  1.620771 -0.139649  0.315307"
      ]
     },
     "execution_count": 67,
     "metadata": {},
     "output_type": "execute_result"
    }
   ],
   "source": [
    "pd.DataFrame(arr)"
   ]
  },
  {
   "cell_type": "code",
   "execution_count": 68,
   "id": "bc11c321-1c52-4b22-894d-ad9b9aa9f1c9",
   "metadata": {},
   "outputs": [],
   "source": [
    "arr11=np.random.rand(3,4)"
   ]
  },
  {
   "cell_type": "code",
   "execution_count": 69,
   "id": "747f47e2-4f22-44eb-ad59-1284428de0f4",
   "metadata": {},
   "outputs": [],
   "source": [
    "import pandas as pd"
   ]
  },
  {
   "cell_type": "code",
   "execution_count": 70,
   "id": "0723ae09-4bf4-461d-86b2-c07743ba7b77",
   "metadata": {},
   "outputs": [
    {
     "data": {
      "text/html": [
       "<div>\n",
       "<style scoped>\n",
       "    .dataframe tbody tr th:only-of-type {\n",
       "        vertical-align: middle;\n",
       "    }\n",
       "\n",
       "    .dataframe tbody tr th {\n",
       "        vertical-align: top;\n",
       "    }\n",
       "\n",
       "    .dataframe thead th {\n",
       "        text-align: right;\n",
       "    }\n",
       "</style>\n",
       "<table border=\"1\" class=\"dataframe\">\n",
       "  <thead>\n",
       "    <tr style=\"text-align: right;\">\n",
       "      <th></th>\n",
       "      <th>0</th>\n",
       "      <th>1</th>\n",
       "      <th>2</th>\n",
       "      <th>3</th>\n",
       "    </tr>\n",
       "  </thead>\n",
       "  <tbody>\n",
       "    <tr>\n",
       "      <th>0</th>\n",
       "      <td>0.512576</td>\n",
       "      <td>0.991670</td>\n",
       "      <td>0.793543</td>\n",
       "      <td>0.996761</td>\n",
       "    </tr>\n",
       "    <tr>\n",
       "      <th>1</th>\n",
       "      <td>0.396549</td>\n",
       "      <td>0.699137</td>\n",
       "      <td>0.338419</td>\n",
       "      <td>0.518485</td>\n",
       "    </tr>\n",
       "    <tr>\n",
       "      <th>2</th>\n",
       "      <td>0.297071</td>\n",
       "      <td>0.419881</td>\n",
       "      <td>0.601609</td>\n",
       "      <td>0.685677</td>\n",
       "    </tr>\n",
       "  </tbody>\n",
       "</table>\n",
       "</div>"
      ],
      "text/plain": [
       "          0         1         2         3\n",
       "0  0.512576  0.991670  0.793543  0.996761\n",
       "1  0.396549  0.699137  0.338419  0.518485\n",
       "2  0.297071  0.419881  0.601609  0.685677"
      ]
     },
     "execution_count": 70,
     "metadata": {},
     "output_type": "execute_result"
    }
   ],
   "source": [
    "pd.DataFrame(arr11)"
   ]
  },
  {
   "cell_type": "code",
   "execution_count": 104,
   "id": "9c7272a5-fd80-415f-b747-2bb91a5e8feb",
   "metadata": {},
   "outputs": [],
   "source": [
    "#Difference between randn and rand function is randn  function gives the value whose mean is 0 and std is 1 and the rand function gives the random value . "
   ]
  },
  {
   "cell_type": "code",
   "execution_count": 71,
   "id": "e326109a-e658-468d-92bb-5c399f05b2af",
   "metadata": {},
   "outputs": [
    {
     "data": {
      "text/plain": [
       "array([[26, 68, 74, 41],\n",
       "       [97, 49, 90, 60],\n",
       "       [76, 75, 17, 34]])"
      ]
     },
     "execution_count": 71,
     "metadata": {},
     "output_type": "execute_result"
    }
   ],
   "source": [
    "np.random.randint(1,100,(3,4))"
   ]
  },
  {
   "cell_type": "code",
   "execution_count": 72,
   "id": "d3ce4c80-1a20-4592-a508-a809a02228c0",
   "metadata": {},
   "outputs": [],
   "source": [
    "arr22=np.random.randint(1,100,(300,400))"
   ]
  },
  {
   "cell_type": "code",
   "execution_count": 73,
   "id": "9d197487-9aed-47e8-9914-4cd7b516d023",
   "metadata": {},
   "outputs": [],
   "source": [
    "pd.DataFrame(arr22).to_csv('text.csv')"
   ]
  },
  {
   "cell_type": "code",
   "execution_count": 74,
   "id": "21c9f735-a6a9-4b70-ad68-405c9636cffe",
   "metadata": {},
   "outputs": [],
   "source": [
    "arr33=np.random.rand(3,4)"
   ]
  },
  {
   "cell_type": "code",
   "execution_count": 111,
   "id": "1b83296d-4337-4e48-ba75-4577af69bd3a",
   "metadata": {},
   "outputs": [
    {
     "data": {
      "text/plain": [
       "array([[0.40665704, 0.38896667, 0.94937969, 0.76972212],\n",
       "       [0.8716088 , 0.54751645, 0.86667766, 0.80881079],\n",
       "       [0.86179758, 0.85611335, 0.50335735, 0.17639481]])"
      ]
     },
     "execution_count": 111,
     "metadata": {},
     "output_type": "execute_result"
    }
   ],
   "source": [
    "arr33"
   ]
  },
  {
   "cell_type": "code",
   "execution_count": 75,
   "id": "37d724ff-9897-4850-b2e7-d1fd6fe8ba43",
   "metadata": {},
   "outputs": [
    {
     "data": {
      "text/plain": [
       "array([[0.44534548, 0.07087468, 0.67622891, 0.33958697, 0.96247624,\n",
       "        0.34937988],\n",
       "       [0.53761668, 0.52631283, 0.92905601, 0.94757284, 0.27271039,\n",
       "        0.05131836]])"
      ]
     },
     "execution_count": 75,
     "metadata": {},
     "output_type": "execute_result"
    }
   ],
   "source": [
    "arr33.reshape(2,6)"
   ]
  },
  {
   "cell_type": "code",
   "execution_count": 76,
   "id": "5fde9e9b-ceb4-466a-ad5d-ab2777152581",
   "metadata": {},
   "outputs": [
    {
     "data": {
      "text/plain": [
       "array([[0.44534548, 0.07087468],\n",
       "       [0.67622891, 0.33958697],\n",
       "       [0.96247624, 0.34937988],\n",
       "       [0.53761668, 0.52631283],\n",
       "       [0.92905601, 0.94757284],\n",
       "       [0.27271039, 0.05131836]])"
      ]
     },
     "execution_count": 76,
     "metadata": {},
     "output_type": "execute_result"
    }
   ],
   "source": [
    "arr33.reshape(6,2)"
   ]
  },
  {
   "cell_type": "code",
   "execution_count": 79,
   "id": "d96f792c-d74f-405e-8b2a-ec22d9d155c0",
   "metadata": {},
   "outputs": [],
   "source": [
    "arr44=arr33.reshape(6,-1111)# - anyvalue = 2"
   ]
  },
  {
   "cell_type": "code",
   "execution_count": 82,
   "id": "8664e1f4-9d18-4515-94ad-38df7b57bce5",
   "metadata": {},
   "outputs": [
    {
     "data": {
      "text/plain": [
       "0.3493798750867355"
      ]
     },
     "execution_count": 82,
     "metadata": {},
     "output_type": "execute_result"
    }
   ],
   "source": [
    "arr44[2][1]"
   ]
  },
  {
   "cell_type": "code",
   "execution_count": 83,
   "id": "b6f8ead2-49c2-4893-89c8-ec5d4209d8f5",
   "metadata": {},
   "outputs": [
    {
     "data": {
      "text/plain": [
       "array([[0.96247624, 0.34937988],\n",
       "       [0.53761668, 0.52631283],\n",
       "       [0.92905601, 0.94757284]])"
      ]
     },
     "execution_count": 83,
     "metadata": {},
     "output_type": "execute_result"
    }
   ],
   "source": [
    "arr44[2:5]"
   ]
  },
  {
   "cell_type": "code",
   "execution_count": 84,
   "id": "d637d5a2-6c01-45b5-8fb9-01feccf3e154",
   "metadata": {},
   "outputs": [
    {
     "data": {
      "text/plain": [
       "array([0.34937988, 0.52631283, 0.94757284])"
      ]
     },
     "execution_count": 84,
     "metadata": {},
     "output_type": "execute_result"
    }
   ],
   "source": [
    "arr44[2:5,1]"
   ]
  },
  {
   "cell_type": "code",
   "execution_count": 86,
   "id": "5d440328-89ac-4775-98ad-395d217ce927",
   "metadata": {},
   "outputs": [],
   "source": [
    "arr55=arr44[2:5]"
   ]
  },
  {
   "cell_type": "code",
   "execution_count": 88,
   "id": "ea87bec1-d0d8-4203-9895-b84150dce206",
   "metadata": {},
   "outputs": [
    {
     "data": {
      "text/plain": [
       "array([0.96247624, 0.34937988])"
      ]
     },
     "execution_count": 88,
     "metadata": {},
     "output_type": "execute_result"
    }
   ],
   "source": [
    "arr55[0]"
   ]
  },
  {
   "cell_type": "code",
   "execution_count": 91,
   "id": "699715aa-306a-4d8b-a491-a42cf24ae170",
   "metadata": {},
   "outputs": [],
   "source": [
    "arr66=np.random.randint(1,100,(5,5))"
   ]
  },
  {
   "cell_type": "code",
   "execution_count": 93,
   "id": "88030d78-9ab8-49ef-b027-8aa86ee00bab",
   "metadata": {},
   "outputs": [
    {
     "data": {
      "text/plain": [
       "array([[False, False,  True, False,  True],\n",
       "       [ True, False,  True, False,  True],\n",
       "       [False, False, False, False, False],\n",
       "       [False, False, False,  True, False],\n",
       "       [False,  True, False,  True, False]])"
      ]
     },
     "execution_count": 93,
     "metadata": {},
     "output_type": "execute_result"
    }
   ],
   "source": [
    "arr66>50"
   ]
  },
  {
   "cell_type": "code",
   "execution_count": 95,
   "id": "3605d560-68ee-482a-84d1-664512be84a6",
   "metadata": {},
   "outputs": [
    {
     "data": {
      "text/plain": [
       "array([75, 82, 87, 67, 71, 91, 66, 83])"
      ]
     },
     "execution_count": 95,
     "metadata": {},
     "output_type": "execute_result"
    }
   ],
   "source": [
    "arr66[arr66>50]"
   ]
  },
  {
   "cell_type": "code",
   "execution_count": 96,
   "id": "8ede313b-17ce-4a00-8ad9-f316e5c5c40f",
   "metadata": {},
   "outputs": [
    {
     "data": {
      "text/plain": [
       "array([[47, 45, 75,  1, 82],\n",
       "       [87, 39, 67, 47, 71],\n",
       "       [42, 19, 38, 23, 43],\n",
       "       [26, 15, 40, 91,  7],\n",
       "       [33, 66, 46, 83, 21]])"
      ]
     },
     "execution_count": 96,
     "metadata": {},
     "output_type": "execute_result"
    }
   ],
   "source": [
    "arr66"
   ]
  },
  {
   "cell_type": "code",
   "execution_count": 98,
   "id": "d7d72944-16b2-4f06-b964-49dccb152c21",
   "metadata": {},
   "outputs": [
    {
     "data": {
      "text/plain": [
       "array([[38, 23],\n",
       "       [40, 91]])"
      ]
     },
     "execution_count": 98,
     "metadata": {},
     "output_type": "execute_result"
    }
   ],
   "source": [
    "arr66[2:4,[2,3]]"
   ]
  },
  {
   "cell_type": "code",
   "execution_count": 99,
   "id": "f0c59552-f9bf-4af1-b00c-4fbd2df5f6db",
   "metadata": {},
   "outputs": [],
   "source": [
    "arr66[0][0]=5000"
   ]
  },
  {
   "cell_type": "code",
   "execution_count": 100,
   "id": "4bfe0d75-b4cd-413c-baf4-c4c71a6a66d2",
   "metadata": {},
   "outputs": [
    {
     "data": {
      "text/plain": [
       "array([[5000,   45,   75,    1,   82],\n",
       "       [  87,   39,   67,   47,   71],\n",
       "       [  42,   19,   38,   23,   43],\n",
       "       [  26,   15,   40,   91,    7],\n",
       "       [  33,   66,   46,   83,   21]])"
      ]
     },
     "execution_count": 100,
     "metadata": {},
     "output_type": "execute_result"
    }
   ],
   "source": [
    "arr66"
   ]
  },
  {
   "cell_type": "code",
   "execution_count": 104,
   "id": "5765312f-2c6f-44c7-a00c-b5d719ceb5a8",
   "metadata": {},
   "outputs": [],
   "source": [
    "arr1=np.random.randint(1,3,(3,3))\n",
    "arr2=np.random.randint(1,3,(3,3))"
   ]
  },
  {
   "cell_type": "code",
   "execution_count": 105,
   "id": "290b288e-8679-4d66-8a55-d2df64c221b4",
   "metadata": {},
   "outputs": [
    {
     "data": {
      "text/plain": [
       "array([[2, 1, 1],\n",
       "       [2, 1, 2],\n",
       "       [1, 1, 1]])"
      ]
     },
     "execution_count": 105,
     "metadata": {},
     "output_type": "execute_result"
    }
   ],
   "source": [
    "arr1"
   ]
  },
  {
   "cell_type": "code",
   "execution_count": 106,
   "id": "67bb8ced-7142-4e7e-9769-55807f2f3598",
   "metadata": {},
   "outputs": [
    {
     "data": {
      "text/plain": [
       "array([[1, 1, 1],\n",
       "       [1, 2, 2],\n",
       "       [2, 2, 2]])"
      ]
     },
     "execution_count": 106,
     "metadata": {},
     "output_type": "execute_result"
    }
   ],
   "source": [
    "arr2"
   ]
  },
  {
   "cell_type": "code",
   "execution_count": 108,
   "id": "c524dce7-a0c8-45f0-8c42-10a6d8e9f20f",
   "metadata": {},
   "outputs": [
    {
     "data": {
      "text/plain": [
       "array([[2, 2, 2],\n",
       "       [2, 4, 4],\n",
       "       [4, 4, 4]])"
      ]
     },
     "execution_count": 108,
     "metadata": {},
     "output_type": "execute_result"
    }
   ],
   "source": [
    "arr1+arr2"
   ]
  },
  {
   "cell_type": "code",
   "execution_count": 109,
   "id": "52bf3f98-9629-490d-8f29-d77f1a9ac6ae",
   "metadata": {},
   "outputs": [
    {
     "data": {
      "text/plain": [
       "array([[0, 0, 0],\n",
       "       [0, 0, 0],\n",
       "       [0, 0, 0]])"
      ]
     },
     "execution_count": 109,
     "metadata": {},
     "output_type": "execute_result"
    }
   ],
   "source": [
    "arr1-arr2"
   ]
  },
  {
   "cell_type": "code",
   "execution_count": 110,
   "id": "25b4fe57-fa56-4f8b-acd3-f9aa5ac4009c",
   "metadata": {},
   "outputs": [
    {
     "data": {
      "text/plain": [
       "array([[1., 1., 1.],\n",
       "       [1., 1., 1.],\n",
       "       [1., 1., 1.]])"
      ]
     },
     "execution_count": 110,
     "metadata": {},
     "output_type": "execute_result"
    }
   ],
   "source": [
    "arr1/arr2"
   ]
  },
  {
   "cell_type": "code",
   "execution_count": 112,
   "id": "6e0c0caa-be74-4ee3-b896-cbc822c63607",
   "metadata": {},
   "outputs": [
    {
     "data": {
      "text/plain": [
       "array([[1, 1, 1],\n",
       "       [1, 4, 4],\n",
       "       [4, 4, 4]])"
      ]
     },
     "execution_count": 112,
     "metadata": {},
     "output_type": "execute_result"
    }
   ],
   "source": [
    "arr1*arr2# this is normal index multiplication "
   ]
  },
  {
   "cell_type": "code",
   "execution_count": 113,
   "id": "06107f43-762b-4596-bf20-3387f7673eca",
   "metadata": {},
   "outputs": [
    {
     "data": {
      "text/plain": [
       "array([[ 4,  5,  5],\n",
       "       [ 7,  9,  9],\n",
       "       [ 8, 10, 10]])"
      ]
     },
     "execution_count": 113,
     "metadata": {},
     "output_type": "execute_result"
    }
   ],
   "source": [
    "arr1@arr2# @ is used to matrix multiplication"
   ]
  },
  {
   "cell_type": "code",
   "execution_count": 114,
   "id": "9044f6af-69e7-46e8-a468-b08e96ade523",
   "metadata": {},
   "outputs": [
    {
     "name": "stderr",
     "output_type": "stream",
     "text": [
      "/tmp/ipykernel_77/1510032488.py:1: RuntimeWarning: divide by zero encountered in divide\n",
      "  arr1/0\n"
     ]
    },
    {
     "data": {
      "text/plain": [
       "array([[inf, inf, inf],\n",
       "       [inf, inf, inf],\n",
       "       [inf, inf, inf]])"
      ]
     },
     "execution_count": 114,
     "metadata": {},
     "output_type": "execute_result"
    }
   ],
   "source": [
    "arr1/0"
   ]
  },
  {
   "cell_type": "code",
   "execution_count": 115,
   "id": "c893984a-1bef-4005-92e6-c4a025d06cac",
   "metadata": {},
   "outputs": [
    {
     "data": {
      "text/plain": [
       "array([[1, 1, 1],\n",
       "       [1, 2, 2],\n",
       "       [2, 2, 2]])"
      ]
     },
     "execution_count": 115,
     "metadata": {},
     "output_type": "execute_result"
    }
   ],
   "source": [
    "arr1"
   ]
  },
  {
   "cell_type": "code",
   "execution_count": 116,
   "id": "33c9c025-97ff-48a6-8f49-e3e1419c549a",
   "metadata": {},
   "outputs": [
    {
     "data": {
      "text/plain": [
       "array([[101, 101, 101],\n",
       "       [101, 102, 102],\n",
       "       [102, 102, 102]])"
      ]
     },
     "execution_count": 116,
     "metadata": {},
     "output_type": "execute_result"
    }
   ],
   "source": [
    "arr1+100"
   ]
  },
  {
   "cell_type": "code",
   "execution_count": 117,
   "id": "aa7b0d76-8e0d-42cd-a812-22fbcf52aff1",
   "metadata": {},
   "outputs": [
    {
     "data": {
      "text/plain": [
       "array([[1, 1, 1],\n",
       "       [1, 4, 4],\n",
       "       [4, 4, 4]])"
      ]
     },
     "execution_count": 117,
     "metadata": {},
     "output_type": "execute_result"
    }
   ],
   "source": [
    "arr1**2"
   ]
  },
  {
   "cell_type": "code",
   "execution_count": 118,
   "id": "f5372897-589a-4677-b59c-93e5d83fba07",
   "metadata": {},
   "outputs": [],
   "source": [
    "#Numpy_Broadcasting"
   ]
  },
  {
   "cell_type": "code",
   "execution_count": 127,
   "id": "41fe5c80-27ff-4c94-99d5-737d94ba782c",
   "metadata": {},
   "outputs": [],
   "source": [
    "arr=np.zeros((4,4))"
   ]
  },
  {
   "cell_type": "code",
   "execution_count": 128,
   "id": "72b53e8a-3eda-429b-8af0-d63f8bc67678",
   "metadata": {},
   "outputs": [
    {
     "data": {
      "text/plain": [
       "array([[0., 0., 0., 0.],\n",
       "       [0., 0., 0., 0.],\n",
       "       [0., 0., 0., 0.],\n",
       "       [0., 0., 0., 0.]])"
      ]
     },
     "execution_count": 128,
     "metadata": {},
     "output_type": "execute_result"
    }
   ],
   "source": [
    "arr"
   ]
  },
  {
   "cell_type": "code",
   "execution_count": 124,
   "id": "3b33520a-3452-4810-9be8-b152018782b2",
   "metadata": {},
   "outputs": [],
   "source": [
    "row=np.array([1,2,3,4])"
   ]
  },
  {
   "cell_type": "code",
   "execution_count": 125,
   "id": "28e2ecd6-d2ef-4b21-8e1c-3cc48f03d3d3",
   "metadata": {},
   "outputs": [
    {
     "data": {
      "text/plain": [
       "array([1, 2, 3, 4])"
      ]
     },
     "execution_count": 125,
     "metadata": {},
     "output_type": "execute_result"
    }
   ],
   "source": [
    "row"
   ]
  },
  {
   "cell_type": "code",
   "execution_count": 126,
   "id": "6c7178ad-1850-4382-96e6-d8ec6a0ff563",
   "metadata": {},
   "outputs": [
    {
     "data": {
      "text/plain": [
       "array([[1., 2., 3., 4.],\n",
       "       [1., 2., 3., 4.],\n",
       "       [1., 2., 3., 4.],\n",
       "       [1., 2., 3., 4.]])"
      ]
     },
     "execution_count": 126,
     "metadata": {},
     "output_type": "execute_result"
    }
   ],
   "source": [
    "arr+row"
   ]
  },
  {
   "cell_type": "code",
   "execution_count": 129,
   "id": "5a673001-6769-4438-993c-f861d5fed4a5",
   "metadata": {},
   "outputs": [
    {
     "data": {
      "text/plain": [
       "array([1, 2, 3, 4])"
      ]
     },
     "execution_count": 129,
     "metadata": {},
     "output_type": "execute_result"
    }
   ],
   "source": [
    "row.T"
   ]
  },
  {
   "cell_type": "code",
   "execution_count": 130,
   "id": "efe583cc-b193-468e-8211-c8b3e8b466bc",
   "metadata": {},
   "outputs": [],
   "source": [
    "col=np.array([[1,2,3,4]])"
   ]
  },
  {
   "cell_type": "code",
   "execution_count": 131,
   "id": "8d59ad4b-3790-4b52-8c99-871ceb90dc84",
   "metadata": {},
   "outputs": [
    {
     "data": {
      "text/plain": [
       "array([[1, 2, 3, 4]])"
      ]
     },
     "execution_count": 131,
     "metadata": {},
     "output_type": "execute_result"
    }
   ],
   "source": [
    "col"
   ]
  },
  {
   "cell_type": "code",
   "execution_count": 133,
   "id": "4a3e2125-f1e3-4414-8bf8-a3bc885e2c91",
   "metadata": {},
   "outputs": [
    {
     "data": {
      "text/plain": [
       "array([[1., 1., 1., 1.],\n",
       "       [2., 2., 2., 2.],\n",
       "       [3., 3., 3., 3.],\n",
       "       [4., 4., 4., 4.]])"
      ]
     },
     "execution_count": 133,
     "metadata": {},
     "output_type": "execute_result"
    }
   ],
   "source": [
    "col.T+arr"
   ]
  },
  {
   "cell_type": "code",
   "execution_count": 134,
   "id": "e8e51ba7-bcb8-452d-844f-595c832618b2",
   "metadata": {},
   "outputs": [
    {
     "data": {
      "text/plain": [
       "array([[1, 1, 1],\n",
       "       [1, 2, 2],\n",
       "       [2, 2, 2]])"
      ]
     },
     "execution_count": 134,
     "metadata": {},
     "output_type": "execute_result"
    }
   ],
   "source": [
    "arr1"
   ]
  },
  {
   "cell_type": "code",
   "execution_count": 136,
   "id": "2bdee239-173e-4b11-b3c8-3cabb647590c",
   "metadata": {},
   "outputs": [
    {
     "data": {
      "text/plain": [
       "array([[0., 0., 0., 0.],\n",
       "       [0., 0., 0., 0.],\n",
       "       [0., 0., 0., 0.],\n",
       "       [0., 0., 0., 0.]])"
      ]
     },
     "execution_count": 136,
     "metadata": {},
     "output_type": "execute_result"
    }
   ],
   "source": [
    "arr"
   ]
  },
  {
   "cell_type": "code",
   "execution_count": 139,
   "id": "f2e6578f-6ef9-457d-a588-a98e5ff68b43",
   "metadata": {},
   "outputs": [],
   "source": [
    "arr1=np.random.randint(1,4,(3,4))"
   ]
  },
  {
   "cell_type": "code",
   "execution_count": 140,
   "id": "777486ca-f87f-40ec-b0ef-ab3aa8b74174",
   "metadata": {},
   "outputs": [
    {
     "data": {
      "text/plain": [
       "array([[3, 1, 1, 3],\n",
       "       [1, 2, 3, 3],\n",
       "       [3, 3, 3, 2]])"
      ]
     },
     "execution_count": 140,
     "metadata": {},
     "output_type": "execute_result"
    }
   ],
   "source": [
    "arr1"
   ]
  },
  {
   "cell_type": "code",
   "execution_count": 141,
   "id": "f60da5c6-b9a6-42e1-906c-2847d6d3fdfa",
   "metadata": {},
   "outputs": [
    {
     "data": {
      "text/plain": [
       "array([[1.73205081, 1.        , 1.        , 1.73205081],\n",
       "       [1.        , 1.41421356, 1.73205081, 1.73205081],\n",
       "       [1.73205081, 1.73205081, 1.73205081, 1.41421356]])"
      ]
     },
     "execution_count": 141,
     "metadata": {},
     "output_type": "execute_result"
    }
   ],
   "source": [
    "np.sqrt(arr1)"
   ]
  },
  {
   "cell_type": "code",
   "execution_count": 142,
   "id": "8ad32f3c-60ab-4388-af20-6df997bac44e",
   "metadata": {},
   "outputs": [
    {
     "data": {
      "text/plain": [
       "array([[20.08553692,  2.71828183,  2.71828183, 20.08553692],\n",
       "       [ 2.71828183,  7.3890561 , 20.08553692, 20.08553692],\n",
       "       [20.08553692, 20.08553692, 20.08553692,  7.3890561 ]])"
      ]
     },
     "execution_count": 142,
     "metadata": {},
     "output_type": "execute_result"
    }
   ],
   "source": [
    "np.exp(arr1)"
   ]
  },
  {
   "cell_type": "code",
   "execution_count": 143,
   "id": "b2e63d61-dd38-4849-8c6b-e7fe77c2aea5",
   "metadata": {},
   "outputs": [
    {
     "data": {
      "text/plain": [
       "array([[0.47712125, 0.        , 0.        , 0.47712125],\n",
       "       [0.        , 0.30103   , 0.47712125, 0.47712125],\n",
       "       [0.47712125, 0.47712125, 0.47712125, 0.30103   ]])"
      ]
     },
     "execution_count": 143,
     "metadata": {},
     "output_type": "execute_result"
    }
   ],
   "source": [
    "np.log10(arr1)"
   ]
  },
  {
   "cell_type": "code",
   "execution_count": null,
   "id": "8d7b8fa4-f9e9-48d9-b0a6-121c78596841",
   "metadata": {},
   "outputs": [],
   "source": []
  }
 ],
 "metadata": {
  "kernelspec": {
   "display_name": "Python 3 (ipykernel)",
   "language": "python",
   "name": "python3"
  },
  "language_info": {
   "codemirror_mode": {
    "name": "ipython",
    "version": 3
   },
   "file_extension": ".py",
   "mimetype": "text/x-python",
   "name": "python",
   "nbconvert_exporter": "python",
   "pygments_lexer": "ipython3",
   "version": "3.10.8"
  }
 },
 "nbformat": 4,
 "nbformat_minor": 5
}
